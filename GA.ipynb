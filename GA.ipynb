{
 "cells": [
  {
   "cell_type": "markdown",
   "metadata": {},
   "source": [
    "# Genetic algoritm by personal"
   ]
  },
  {
   "cell_type": "markdown",
   "metadata": {},
   "source": [
    "## Import Libraries"
   ]
  },
  {
   "cell_type": "code",
   "execution_count": 85,
   "metadata": {},
   "outputs": [],
   "source": [
    "import numpy as np\n",
    "from numpy.random import randint\n",
    "from numpy.random import rand\n",
    "import pandas as pd\n",
    "from sklearn import linear_model, datasets\n",
    "from geneticalgorithm import geneticalgorithm\n",
    "from genetic_selection import GeneticSelectionCV"
   ]
  },
  {
   "cell_type": "markdown",
   "metadata": {},
   "source": [
    "## Objective Functions To Be Optimized"
   ]
  },
  {
   "cell_type": "code",
   "execution_count": 41,
   "metadata": {},
   "outputs": [],
   "source": [
    "def f(x):\n",
    "  return -sum(x)"
   ]
  },
  {
   "cell_type": "markdown",
   "metadata": {},
   "source": [
    "## Parameter Initialization"
   ]
  },
  {
   "cell_type": "code",
   "execution_count": 42,
   "metadata": {},
   "outputs": [],
   "source": [
    "n_iter = 2000\n",
    "n_bits = 20\n",
    "n_pop = 100\n",
    "r_cross = 0.9\n",
    "r_mut = 1/float(n_bits)"
   ]
  },
  {
   "cell_type": "markdown",
   "metadata": {},
   "source": [
    "## Genetic Operator Functions"
   ]
  },
  {
   "cell_type": "code",
   "execution_count": 43,
   "metadata": {},
   "outputs": [],
   "source": [
    "#tournament\n",
    "def selection(pop, scores, k=3):\n",
    "  selection_ix = randint(len(pop))\n",
    "  for ix in randint(0,len(pop), k-1):\n",
    "    if scores[ix] < scores[selection_ix]:\n",
    "      selection_idx = ix\n",
    "  return pop[selection_ix]"
   ]
  },
  {
   "cell_type": "code",
   "execution_count": 44,
   "metadata": {},
   "outputs": [],
   "source": [
    "def crossover(p1, p2, r_cross):\n",
    "  c1, c2 = p1.copy(), p2.copy()\n",
    "  if rand()< r_cross:\n",
    "    pt = randint(1,len(p1)-2)\n",
    "    c1 = p1[:pt] + p2[pt:]\n",
    "    c2 = p2[:pt] + p1[pt:]\n",
    "  return [c1,c2]"
   ]
  },
  {
   "cell_type": "code",
   "execution_count": 45,
   "metadata": {},
   "outputs": [],
   "source": [
    "def mutation(bitstring, r_mut):\n",
    "  for i in range(len(bitstring)):\n",
    "    if rand() < r_mut:\n",
    "      bitstring[i] = 1-bitstring[i]\n",
    "  return bitstring\n",
    "\n",
    "# mutation([1,1,0,0], 0.2)"
   ]
  },
  {
   "cell_type": "markdown",
   "metadata": {},
   "source": [
    "## Algorithm"
   ]
  },
  {
   "cell_type": "code",
   "execution_count": 46,
   "metadata": {},
   "outputs": [],
   "source": [
    "def genetic_alogorithm(f, n_bits, n_iter, n_pop, r_cross, r_mut):\n",
    "\n",
    "  pop = [randint(0,2, n_bits).tolist() for _ in range(n_pop)] #ایجاد نقاط اطراف مراکز جمعیتی\n",
    "  best, best_eval = 0, f(pop[0])\n",
    "  for gen in range(n_iter):\n",
    "    scores = [f(c) for c in pop]\n",
    "    for i in range(n_pop):\n",
    "      if scores[i]< best_eval:\n",
    "        best, best_eval = pop[i], scores[i]\n",
    "        print('pop = ',pop[i], 'score = ', scores[i])\n",
    "\n",
    "    selected = [selection(pop, scores) for _ in range(n_pop)]\n",
    "    children = list()\n",
    "    for i in range(0,n_pop,2):\n",
    "      p1, p2 = selected[i], selected[i+1]\n",
    "      y = crossover(p1,p2, r_cross)\n",
    "      for c in y:\n",
    "        mutation(c, r_mut)\n",
    "        children.append(c)\n",
    "      pop = children\n",
    "\n",
    "  return [best, best_eval]"
   ]
  },
  {
   "cell_type": "markdown",
   "metadata": {},
   "source": [
    "## Final Implementation Function"
   ]
  },
  {
   "cell_type": "code",
   "execution_count": 47,
   "metadata": {},
   "outputs": [
    {
     "name": "stdout",
     "output_type": "stream",
     "text": [
      "pop =  [0, 0, 1, 0, 1, 0, 1, 1, 0, 1, 1, 1, 1, 1, 1, 0, 1, 1, 1, 1] score =  -14\n",
      "pop =  [0, 1, 1, 1, 0, 1, 1, 1, 1, 1, 1, 0, 1, 1, 0, 1, 1, 1, 0, 1] score =  -15\n",
      "pop =  [0, 1, 1, 1, 1, 1, 1, 1, 0, 1, 1, 1, 1, 0, 1, 1, 1, 1, 1, 0] score =  -16\n",
      "pop =  [1, 1, 0, 0, 1, 1, 1, 1, 0, 1, 1, 1, 1, 1, 1, 1, 1, 1, 1, 1] score =  -17\n",
      "pop =  [1, 1, 1, 1, 1, 1, 1, 1, 1, 1, 0, 1, 1, 1, 1, 1, 1, 1, 0, 1] score =  -18\n",
      "pop =  [1, 1, 1, 1, 1, 1, 1, 1, 1, 1, 1, 1, 1, 1, 1, 1, 1, 1, 0, 1] score =  -19\n"
     ]
    }
   ],
   "source": [
    "best, score = genetic_alogorithm(f, n_bits, n_iter, n_pop, r_cross, r_mut)"
   ]
  },
  {
   "cell_type": "markdown",
   "metadata": {},
   "source": [
    "# Genetic algoritm by python Lybrary\n"
   ]
  },
  {
   "cell_type": "code",
   "execution_count": null,
   "metadata": {},
   "outputs": [],
   "source": [
    "# def f(x): \n",
    "#     return sum(x)"
   ]
  },
  {
   "cell_type": "code",
   "execution_count": 76,
   "metadata": {},
   "outputs": [],
   "source": [
    "def f(x):\n",
    "  pen = -2\n",
    "  if x[0] + x[1]<2:\n",
    "    return sum(x)-2\n",
    "  else:\n",
    "    return sum(x)"
   ]
  },
  {
   "cell_type": "code",
   "execution_count": 112,
   "metadata": {},
   "outputs": [],
   "source": [
    "def f1(x): # f(x)= x1 +x2 + x3 min\n",
    "    return x[0] + x[1] + x[2]\n",
    "def f2(x): # f(x)= x1 +x2 + x3 max\n",
    "    return x[0] - x[1] - x[2]\n",
    "def f3(x): # f(x)= x1 +x2 + x3 min\n",
    "    return x[0] * x[1] * x[2]\n",
    "def g(x):\n",
    "    return f1(x)-f2(x)-f3(x)"
   ]
  },
  {
   "cell_type": "code",
   "execution_count": 113,
   "metadata": {},
   "outputs": [
    {
     "data": {
      "text/plain": [
       "array([[ -5, 100],\n",
       "       [ -5, 100],\n",
       "       [ -5, 100]])"
      ]
     },
     "execution_count": 113,
     "metadata": {},
     "output_type": "execute_result"
    }
   ],
   "source": [
    "bound = np.array([[-5,100]]*3)\n",
    "bound"
   ]
  },
  {
   "cell_type": "code",
   "execution_count": 114,
   "metadata": {},
   "outputs": [
    {
     "name": "stdout",
     "output_type": "stream",
     "text": [
      " The best solution found:                                                                           \n",
      " [99.97770472 99.95979535 99.94217041]\n",
      "\n",
      " Objective function:\n",
      " -998397.3518917405\n"
     ]
    },
    {
     "data": {
      "image/png": "[encoded data removed]",
      "text/plain": [
       "<Figure size 640x480 with 1 Axes>"
      ]
     },
     "metadata": {},
     "output_type": "display_data"
    }
   ],
   "source": [
    "GA_model = geneticalgorithm(function= g, dimension =3, variable_type ='real',variable_boundaries = bound, \n",
    "      algorithm_parameters= {'max_num_iteration': 1000,'population_size': 100,'mutation_probability': 0.1,\n",
    "                              'elit_ratio': 0.01,'crossover_probability': 0.5,'parents_portion': 0.3,\n",
    "                              'crossover_type': 'uniform', 'max_iteration_without_improv':None}  )\n",
    "\n",
    "GA_model.run()"
   ]
  },
  {
   "cell_type": "markdown",
   "metadata": {},
   "source": [
    "# Exersi"
   ]
  },
  {
   "cell_type": "code",
   "execution_count": 95,
   "metadata": {},
   "outputs": [
    {
     "data": {
      "text/plain": [
       "{'data': array([[5.1, 3.5, 1.4, 0.2],\n",
       "        [4.9, 3. , 1.4, 0.2],\n",
       "        [4.7, 3.2, 1.3, 0.2],\n",
       "        [4.6, 3.1, 1.5, 0.2],\n",
       "        [5. , 3.6, 1.4, 0.2],\n",
       "        [5.4, 3.9, 1.7, 0.4],\n",
       "        [4.6, 3.4, 1.4, 0.3],\n",
       "        [5. , 3.4, 1.5, 0.2],\n",
       "        [4.4, 2.9, 1.4, 0.2],\n",
       "        [4.9, 3.1, 1.5, 0.1],\n",
       "        [5.4, 3.7, 1.5, 0.2],\n",
       "        [4.8, 3.4, 1.6, 0.2],\n",
       "        [4.8, 3. , 1.4, 0.1],\n",
       "        [4.3, 3. , 1.1, 0.1],\n",
       "        [5.8, 4. , 1.2, 0.2],\n",
       "        [5.7, 4.4, 1.5, 0.4],\n",
       "        [5.4, 3.9, 1.3, 0.4],\n",
       "        [5.1, 3.5, 1.4, 0.3],\n",
       "        [5.7, 3.8, 1.7, 0.3],\n",
       "        [5.1, 3.8, 1.5, 0.3],\n",
       "        [5.4, 3.4, 1.7, 0.2],\n",
       "        [5.1, 3.7, 1.5, 0.4],\n",
       "        [4.6, 3.6, 1. , 0.2],\n",
       "        [5.1, 3.3, 1.7, 0.5],\n",
       "        [4.8, 3.4, 1.9, 0.2],\n",
       "        [5. , 3. , 1.6, 0.2],\n",
       "        [5. , 3.4, 1.6, 0.4],\n",
       "        [5.2, 3.5, 1.5, 0.2],\n",
       "        [5.2, 3.4, 1.4, 0.2],\n",
       "        [4.7, 3.2, 1.6, 0.2],\n",
       "        [4.8, 3.1, 1.6, 0.2],\n",
       "        [5.4, 3.4, 1.5, 0.4],\n",
       "        [5.2, 4.1, 1.5, 0.1],\n",
       "        [5.5, 4.2, 1.4, 0.2],\n",
       "        [4.9, 3.1, 1.5, 0.2],\n",
       "        [5. , 3.2, 1.2, 0.2],\n",
       "        [5.5, 3.5, 1.3, 0.2],\n",
       "        [4.9, 3.6, 1.4, 0.1],\n",
       "        [4.4, 3. , 1.3, 0.2],\n",
       "        [5.1, 3.4, 1.5, 0.2],\n",
       "        [5. , 3.5, 1.3, 0.3],\n",
       "        [4.5, 2.3, 1.3, 0.3],\n",
       "        [4.4, 3.2, 1.3, 0.2],\n",
       "        [5. , 3.5, 1.6, 0.6],\n",
       "        [5.1, 3.8, 1.9, 0.4],\n",
       "        [4.8, 3. , 1.4, 0.3],\n",
       "        [5.1, 3.8, 1.6, 0.2],\n",
       "        [4.6, 3.2, 1.4, 0.2],\n",
       "        [5.3, 3.7, 1.5, 0.2],\n",
       "        [5. , 3.3, 1.4, 0.2],\n",
       "        [7. , 3.2, 4.7, 1.4],\n",
       "        [6.4, 3.2, 4.5, 1.5],\n",
       "        [6.9, 3.1, 4.9, 1.5],\n",
       "        [5.5, 2.3, 4. , 1.3],\n",
       "        [6.5, 2.8, 4.6, 1.5],\n",
       "        [5.7, 2.8, 4.5, 1.3],\n",
       "        [6.3, 3.3, 4.7, 1.6],\n",
       "        [4.9, 2.4, 3.3, 1. ],\n",
       "        [6.6, 2.9, 4.6, 1.3],\n",
       "        [5.2, 2.7, 3.9, 1.4],\n",
       "        [5. , 2. , 3.5, 1. ],\n",
       "        [5.9, 3. , 4.2, 1.5],\n",
       "        [6. , 2.2, 4. , 1. ],\n",
       "        [6.1, 2.9, 4.7, 1.4],\n",
       "        [5.6, 2.9, 3.6, 1.3],\n",
       "        [6.7, 3.1, 4.4, 1.4],\n",
       "        [5.6, 3. , 4.5, 1.5],\n",
       "        [5.8, 2.7, 4.1, 1. ],\n",
       "        [6.2, 2.2, 4.5, 1.5],\n",
       "        [5.6, 2.5, 3.9, 1.1],\n",
       "        [5.9, 3.2, 4.8, 1.8],\n",
       "        [6.1, 2.8, 4. , 1.3],\n",
       "        [6.3, 2.5, 4.9, 1.5],\n",
       "        [6.1, 2.8, 4.7, 1.2],\n",
       "        [6.4, 2.9, 4.3, 1.3],\n",
       "        [6.6, 3. , 4.4, 1.4],\n",
       "        [6.8, 2.8, 4.8, 1.4],\n",
       "        [6.7, 3. , 5. , 1.7],\n",
       "        [6. , 2.9, 4.5, 1.5],\n",
       "        [5.7, 2.6, 3.5, 1. ],\n",
       "        [5.5, 2.4, 3.8, 1.1],\n",
       "        [5.5, 2.4, 3.7, 1. ],\n",
       "        [5.8, 2.7, 3.9, 1.2],\n",
       "        [6. , 2.7, 5.1, 1.6],\n",
       "        [5.4, 3. , 4.5, 1.5],\n",
       "        [6. , 3.4, 4.5, 1.6],\n",
       "        [6.7, 3.1, 4.7, 1.5],\n",
       "        [6.3, 2.3, 4.4, 1.3],\n",
       "        [5.6, 3. , 4.1, 1.3],\n",
       "        [5.5, 2.5, 4. , 1.3],\n",
       "        [5.5, 2.6, 4.4, 1.2],\n",
       "        [6.1, 3. , 4.6, 1.4],\n",
       "        [5.8, 2.6, 4. , 1.2],\n",
       "        [5. , 2.3, 3.3, 1. ],\n",
       "        [5.6, 2.7, 4.2, 1.3],\n",
       "        [5.7, 3. , 4.2, 1.2],\n",
       "        [5.7, 2.9, 4.2, 1.3],\n",
       "        [6.2, 2.9, 4.3, 1.3],\n",
       "        [5.1, 2.5, 3. , 1.1],\n",
       "        [5.7, 2.8, 4.1, 1.3],\n",
       "        [6.3, 3.3, 6. , 2.5],\n",
       "        [5.8, 2.7, 5.1, 1.9],\n",
       "        [7.1, 3. , 5.9, 2.1],\n",
       "        [6.3, 2.9, 5.6, 1.8],\n",
       "        [6.5, 3. , 5.8, 2.2],\n",
       "        [7.6, 3. , 6.6, 2.1],\n",
       "        [4.9, 2.5, 4.5, 1.7],\n",
       "        [7.3, 2.9, 6.3, 1.8],\n",
       "        [6.7, 2.5, 5.8, 1.8],\n",
       "        [7.2, 3.6, 6.1, 2.5],\n",
       "        [6.5, 3.2, 5.1, 2. ],\n",
       "        [6.4, 2.7, 5.3, 1.9],\n",
       "        [6.8, 3. , 5.5, 2.1],\n",
       "        [5.7, 2.5, 5. , 2. ],\n",
       "        [5.8, 2.8, 5.1, 2.4],\n",
       "        [6.4, 3.2, 5.3, 2.3],\n",
       "        [6.5, 3. , 5.5, 1.8],\n",
       "        [7.7, 3.8, 6.7, 2.2],\n",
       "        [7.7, 2.6, 6.9, 2.3],\n",
       "        [6. , 2.2, 5. , 1.5],\n",
       "        [6.9, 3.2, 5.7, 2.3],\n",
       "        [5.6, 2.8, 4.9, 2. ],\n",
       "        [7.7, 2.8, 6.7, 2. ],\n",
       "        [6.3, 2.7, 4.9, 1.8],\n",
       "        [6.7, 3.3, 5.7, 2.1],\n",
       "        [7.2, 3.2, 6. , 1.8],\n",
       "        [6.2, 2.8, 4.8, 1.8],\n",
       "        [6.1, 3. , 4.9, 1.8],\n",
       "        [6.4, 2.8, 5.6, 2.1],\n",
       "        [7.2, 3. , 5.8, 1.6],\n",
       "        [7.4, 2.8, 6.1, 1.9],\n",
       "        [7.9, 3.8, 6.4, 2. ],\n",
       "        [6.4, 2.8, 5.6, 2.2],\n",
       "        [6.3, 2.8, 5.1, 1.5],\n",
       "        [6.1, 2.6, 5.6, 1.4],\n",
       "        [7.7, 3. , 6.1, 2.3],\n",
       "        [6.3, 3.4, 5.6, 2.4],\n",
       "        [6.4, 3.1, 5.5, 1.8],\n",
       "        [6. , 3. , 4.8, 1.8],\n",
       "        [6.9, 3.1, 5.4, 2.1],\n",
       "        [6.7, 3.1, 5.6, 2.4],\n",
       "        [6.9, 3.1, 5.1, 2.3],\n",
       "        [5.8, 2.7, 5.1, 1.9],\n",
       "        [6.8, 3.2, 5.9, 2.3],\n",
       "        [6.7, 3.3, 5.7, 2.5],\n",
       "        [6.7, 3. , 5.2, 2.3],\n",
       "        [6.3, 2.5, 5. , 1.9],\n",
       "        [6.5, 3. , 5.2, 2. ],\n",
       "        [6.2, 3.4, 5.4, 2.3],\n",
       "        [5.9, 3. , 5.1, 1.8]]),\n",
       " 'target': array([0, 0, 0, 0, 0, 0, 0, 0, 0, 0, 0, 0, 0, 0, 0, 0, 0, 0, 0, 0, 0, 0,\n",
       "        0, 0, 0, 0, 0, 0, 0, 0, 0, 0, 0, 0, 0, 0, 0, 0, 0, 0, 0, 0, 0, 0,\n",
       "        0, 0, 0, 0, 0, 0, 1, 1, 1, 1, 1, 1, 1, 1, 1, 1, 1, 1, 1, 1, 1, 1,\n",
       "        1, 1, 1, 1, 1, 1, 1, 1, 1, 1, 1, 1, 1, 1, 1, 1, 1, 1, 1, 1, 1, 1,\n",
       "        1, 1, 1, 1, 1, 1, 1, 1, 1, 1, 1, 1, 2, 2, 2, 2, 2, 2, 2, 2, 2, 2,\n",
       "        2, 2, 2, 2, 2, 2, 2, 2, 2, 2, 2, 2, 2, 2, 2, 2, 2, 2, 2, 2, 2, 2,\n",
       "        2, 2, 2, 2, 2, 2, 2, 2, 2, 2, 2, 2, 2, 2, 2, 2, 2, 2]),\n",
       " 'frame': None,\n",
       " 'target_names': array(['setosa', 'versicolor', 'virginica'], dtype='<U10'),\n",
       " 'DESCR': '.. _iris_dataset:\\n\\nIris plants dataset\\n--------------------\\n\\n**Data Set Characteristics:**\\n\\n    :Number of Instances: 150 (50 in each of three classes)\\n    :Number of Attributes: 4 numeric, predictive attributes and the class\\n    :Attribute Information:\\n        - sepal length in cm\\n        - sepal width in cm\\n        - petal length in cm\\n        - petal width in cm\\n        - class:\\n                - Iris-Setosa\\n                - Iris-Versicolour\\n                - Iris-Virginica\\n                \\n    :Summary Statistics:\\n\\n    ============== ==== ==== ======= ===== ====================\\n                    Min  Max   Mean    SD   Class Correlation\\n    ============== ==== ==== ======= ===== ====================\\n    sepal length:   4.3  7.9   5.84   0.83    0.7826\\n    sepal width:    2.0  4.4   3.05   0.43   -0.4194\\n    petal length:   1.0  6.9   3.76   1.76    0.9490  (high!)\\n    petal width:    0.1  2.5   1.20   0.76    0.9565  (high!)\\n    ============== ==== ==== ======= ===== ====================\\n\\n    :Missing Attribute Values: None\\n    :Class Distribution: 33.3% for each of 3 classes.\\n    :Creator: R.A. Fisher\\n    :Donor: Michael Marshall (MARSHALL%PLU@io.arc.nasa.gov)\\n    :Date: July, 1988\\n\\nThe famous Iris database, first used by Sir R.A. Fisher. The dataset is taken\\nfrom Fisher\\'s paper. Note that it\\'s the same as in R, but not as in the UCI\\nMachine Learning Repository, which has two wrong data points.\\n\\nThis is perhaps the best known database to be found in the\\npattern recognition literature.  Fisher\\'s paper is a classic in the field and\\nis referenced frequently to this day.  (See Duda & Hart, for example.)  The\\ndata set contains 3 classes of 50 instances each, where each class refers to a\\ntype of iris plant.  One class is linearly separable from the other 2; the\\nlatter are NOT linearly separable from each other.\\n\\n.. topic:: References\\n\\n   - Fisher, R.A. \"The use of multiple measurements in taxonomic problems\"\\n     Annual Eugenics, 7, Part II, 179-188 (1936); also in \"Contributions to\\n     Mathematical Statistics\" (John Wiley, NY, 1950).\\n   - Duda, R.O., & Hart, P.E. (1973) Pattern Classification and Scene Analysis.\\n     (Q327.D83) John Wiley & Sons.  ISBN 0-471-22361-1.  See page 218.\\n   - Dasarathy, B.V. (1980) \"Nosing Around the Neighborhood: A New System\\n     Structure and Classification Rule for Recognition in Partially Exposed\\n     Environments\".  IEEE Transactions on Pattern Analysis and Machine\\n     Intelligence, Vol. PAMI-2, No. 1, 67-71.\\n   - Gates, G.W. (1972) \"The Reduced Nearest Neighbor Rule\".  IEEE Transactions\\n     on Information Theory, May 1972, 431-433.\\n   - See also: 1988 MLC Proceedings, 54-64.  Cheeseman et al\"s AUTOCLASS II\\n     conceptual clustering system finds 3 classes in the data.\\n   - Many, many more ...',\n",
       " 'feature_names': ['sepal length (cm)',\n",
       "  'sepal width (cm)',\n",
       "  'petal length (cm)',\n",
       "  'petal width (cm)'],\n",
       " 'filename': 'iris.csv',\n",
       " 'data_module': 'sklearn.datasets.data'}"
      ]
     },
     "execution_count": 95,
     "metadata": {},
     "output_type": "execute_result"
    }
   ],
   "source": [
    "iris = datasets.load_iris()\n",
    "iris.data.shape\n",
    "iris"
   ]
  },
  {
   "cell_type": "code",
   "execution_count": 104,
   "metadata": {},
   "outputs": [
    {
     "data": {
      "text/plain": [
       "(150, 30)"
      ]
     },
     "execution_count": 104,
     "metadata": {},
     "output_type": "execute_result"
    }
   ],
   "source": [
    "E = np.random.uniform(0,0.1, size = (len(iris.data), 30))\n",
    "E.shape"
   ]
  },
  {
   "cell_type": "code",
   "execution_count": 106,
   "metadata": {
    "scrolled": true
   },
   "outputs": [
    {
     "data": {
      "text/plain": [
       "array([0, 0, 0, 0, 0, 0, 0, 0, 0, 0, 0, 0, 0, 0, 0, 0, 0, 0, 0, 0, 0, 0,\n",
       "       0, 0, 0, 0, 0, 0, 0, 0, 0, 0, 0, 0, 0, 0, 0, 0, 0, 0, 0, 0, 0, 0,\n",
       "       0, 0, 0, 0, 0, 0, 1, 1, 1, 1, 1, 1, 1, 1, 1, 1, 1, 1, 1, 1, 1, 1,\n",
       "       1, 1, 1, 1, 1, 1, 1, 1, 1, 1, 1, 1, 1, 1, 1, 1, 1, 1, 1, 1, 1, 1,\n",
       "       1, 1, 1, 1, 1, 1, 1, 1, 1, 1, 1, 1, 2, 2, 2, 2, 2, 2, 2, 2, 2, 2,\n",
       "       2, 2, 2, 2, 2, 2, 2, 2, 2, 2, 2, 2, 2, 2, 2, 2, 2, 2, 2, 2, 2, 2,\n",
       "       2, 2, 2, 2, 2, 2, 2, 2, 2, 2, 2, 2, 2, 2, 2, 2, 2, 2])"
      ]
     },
     "execution_count": 106,
     "metadata": {},
     "output_type": "execute_result"
    }
   ],
   "source": [
    "x = np.hstack((iris.data, E))\n",
    "y= iris.target\n",
    "y"
   ]
  },
  {
   "cell_type": "code",
   "execution_count": 100,
   "metadata": {
    "scrolled": true
   },
   "outputs": [
    {
     "name": "stdout",
     "output_type": "stream",
     "text": [
      "Selecting features with genetic algorithm.\n",
      "gen\tnevals\tavg                            \tstd                            \tmin                \tmax                            \n",
      "0  \t300   \t[ 0.474889  2.966667  0.056828]\t[ 0.202043  1.365853  0.02271 ]\t[ 0.24  1.    0.  ]\t[ 0.953333  5.        0.125433]\n",
      "1  \t179   \t[-766.081756    3.47      766.712328]\t[ 2660.786692     1.558557  2660.604983]\t[-10000.      1.      0.]\t[     0.953333      9.        10000.      ]\n",
      "2  \t172   \t[-699.278022    3.643333  700.046027]\t[ 2551.668245     1.463827  2551.457537]\t[-10000.      1.      0.]\t[     0.953333      8.        10000.      ]\n",
      "3  \t193   \t[-1065.894911     3.813333  1066.711065]\t[ 3087.15652      1.47371   3086.874499]\t[-10000.           1.           0.01633]\t[     0.953333      9.        10000.      ]\n",
      "4  \t182   \t[-965.857      3.97     966.70805]      \t[ 2955.298234     1.479561  2955.019833]\t[-10000.           1.           0.01633]\t[     0.953333     10.        10000.      ]\n",
      "5  \t180   \t[-999.177067    4.103333 1000.03692 ]   \t[ 3000.274312     1.267276  2999.987693]\t[-10000.            1.            0.013333]\t[     0.953333      9.        10000.      ]\n",
      "6  \t178   \t[-932.486444    4.153333  933.372267]   \t[ 2909.261617     1.30505   2908.977406]\t[-10000.      2.      0.]                  \t[     0.96     10.    10000.  ]            \n",
      "7  \t173   \t[-1099.1606       4.126667  1100.03985 ]\t[ 3129.19267      1.282168  3128.88356 ]\t[-10000.            2.            0.026667]\t[     0.96      8.    10000.  ]            \n",
      "8  \t174   \t[-765.791911    4.083333  766.708364]   \t[ 2660.870204     1.184506  2660.606125]\t[-10000.           1.           0.01633]   \t[     0.96     10.    10000.  ]            \n",
      "9  \t177   \t[-832.460778    3.973333  833.374275]   \t[ 2764.117077     1.035675  2763.841648]\t[-10000.            2.            0.038873]\t[     0.96      7.    10000.  ]            \n",
      "10 \t198   \t[-599.103067    3.886667  600.040715]   \t[ 2375.095024     1.074161  2374.858131]\t[-10000.            3.            0.038873]\t[     0.96     10.    10000.  ]            \n",
      "11 \t191   \t[-932.4656      4.303333  933.370432]   \t[ 2909.268305     1.091477  2908.977994]\t[-10000.           2.           0.01633]   \t[     0.96      9.    10000.  ]            \n",
      "12 \t190   \t[-999.138022    4.403333 1000.035779]   \t[ 3000.287326     0.894794  2999.988074]\t[-10000.           2.           0.01633]   \t[     0.96      9.    10000.  ]            \n",
      "13 \t193   \t[-765.781311    4.28      766.702994]   \t[ 2660.873259     0.792633  2660.607672]\t[-10000.            2.            0.038873]\t[     0.96      9.    10000.  ]            \n",
      "14 \t179   \t[-465.753533    4.183333  466.704212]   \t[ 2109.440966     0.618915  2109.230629]\t[-10000.           2.           0.01633]   \t[     0.96      7.    10000.  ]            \n",
      "15 \t174   \t[-799.117667    4.24      800.035813]   \t[ 2713.192179     0.731938  2712.921432]\t[-10000.           3.           0.01633]   \t[     0.96      8.    10000.  ]            \n",
      "16 \t185   \t[-565.762667    4.236667  566.703464]   \t[ 2312.267315     0.753208  2312.036732]\t[-10000.           3.           0.01633]   \t[     0.96      9.    10000.  ]            \n",
      "17 \t174   \t[-632.435022    4.183333  633.36999 ]   \t[ 2435.848956     0.645282  2435.605837]\t[-10000.           3.           0.01633]   \t[     0.96      8.    10000.  ]            \n",
      "18 \t159   \t[-565.762267    4.203333  566.703316]   \t[ 2312.267413     0.674776  2312.036769]\t[-10000.           3.           0.01633]   \t[     0.96      9.    10000.  ]            \n",
      "19 \t167   \t[-632.435378    4.216667  633.369989]   \t[ 2435.848864     0.680482  2435.605837]\t[-10000.           3.           0.01633]   \t[     0.96      8.    10000.  ]            \n",
      "20 \t187   \t[-599.099133    4.203333  600.036566]   \t[ 2375.096017     0.644455  2374.859179]\t[-10000.           3.           0.01633]   \t[     0.96      8.    10000.  ]            \n",
      "21 \t178   \t[-899.128356    4.336667  900.035437]   \t[ 2862.091724     0.862161  2861.80646 ]\t[-10000.           3.           0.01633]   \t[     0.96      9.    10000.  ]            \n",
      "22 \t173   \t[-965.800622    4.3       966.701869]   \t[ 2955.316676     0.814453  2955.021855]\t[-10000.           3.           0.01633]   \t[     0.96      9.    10000.  ]            \n",
      "23 \t165   \t[-799.118622    4.253333  800.035844]   \t[ 2713.191897     0.76321   2712.921423]\t[-10000.           2.           0.01633]   \t[     0.96      8.    10000.  ]            \n",
      "24 \t165   \t[-632.4348      4.236667  633.369972]   \t[ 2435.849014     0.739812  2435.605841]\t[-10000.           3.           0.01633]   \t[     0.96     10.    10000.  ]            \n",
      "25 \t181   \t[-699.1084      4.256667  700.036359]   \t[ 2551.714776     0.810836  2551.460189]\t[-10000.           2.           0.01633]   \t[     0.96     10.    10000.  ]            \n",
      "26 \t174   \t[-632.435689    4.203333  633.370086]   \t[ 2435.848783     0.623422  2435.605812]\t[-10000.           3.           0.01633]   \t[     0.96      7.    10000.  ]            \n",
      "27 \t187   \t[-832.4548      4.27      833.369409]   \t[ 2764.11888      0.793998  2763.843115]\t[-10000.           3.           0.01633]   \t[     0.96      8.    10000.  ]            \n",
      "28 \t179   \t[-899.127244    4.276667  900.035558]   \t[ 2862.092073     0.770361  2861.806422]\t[-10000.           3.           0.01633]   \t[     0.96      8.    10000.  ]            \n",
      "29 \t186   \t[-865.7908      4.306667  866.702334]   \t[ 2813.729517     0.84417   2813.448726]\t[-10000.           2.           0.01633]   \t[     0.96      9.    10000.  ]            \n",
      "30 \t148   \t[-665.771444    4.233333  666.703043]   \t[ 2494.677516     0.747589  2494.428536]\t[-10000.           3.           0.01633]   \t[     0.96      9.    10000.  ]            \n",
      "31 \t180   \t[-999.137444    4.286667 1000.035606]   \t[ 3000.287519     0.77319   2999.988131]\t[-10000.            3.            0.038873]\t[     0.96      9.    10000.  ]            \n",
      "32 \t171   \t[-699.108244    4.24      700.036657]   \t[ 2551.714819     0.784687  2551.460107]\t[-10000.            3.            0.038873]\t[     0.96      9.    10000.  ]            \n",
      "33 \t175   \t[-665.771311    4.24      666.703103]   \t[ 2494.677552     0.72737   2494.42852 ]\t[-10000.           3.           0.01633]   \t[     0.96      9.    10000.  ]            \n",
      "34 \t177   \t[-965.800178    4.36      966.701713]   \t[ 2955.316821     0.974885  2955.021906]\t[-10000.           3.           0.01633]   \t[     0.96      9.    10000.  ]            \n",
      "35 \t184   \t[-899.127956    4.29      900.035744]   \t[ 2862.09185      0.811932  2861.806363]\t[-10000.           3.           0.01633]   \t[     0.96      9.    10000.  ]            \n",
      "36 \t176   \t[-865.790978    4.293333  866.702303]   \t[ 2813.729463     0.783553  2813.448735]\t[-10000.           2.           0.01633]   \t[     0.96      8.    10000.  ]            \n",
      "37 \t177   \t[-699.109222    4.23      700.036291]   \t[ 2551.714551     0.723717  2551.460208]\t[-10000.           3.           0.01633]   \t[     0.96      8.    10000.  ]            \n",
      "38 \t180   \t[-865.790556    4.29      866.701973]   \t[ 2813.729593     0.863655  2813.448837]\t[-10000.           2.           0.01633]   \t[     0.96      9.    10000.  ]            \n",
      "39 \t196   \t[-632.435311    4.216667  633.370123]   \t[ 2435.848881     0.660597  2435.605802]\t[-10000.           3.           0.01633]   \t[     0.96      8.    10000.  ]            \n",
      "40 \t182   \t[-899.127222    4.306667  900.035505]   \t[ 2862.09208      0.871372  2861.806438]\t[-10000.           3.           0.01633]   \t[     0.96      8.    10000.  ]            \n"
     ]
    },
    {
     "data": {
      "text/plain": [
       "34"
      ]
     },
     "execution_count": 100,
     "metadata": {},
     "output_type": "execute_result"
    }
   ],
   "source": [
    "clf = linear_model.LogisticRegression(solver = 'liblinear', multi_class = 'auto')\n",
    "\n",
    "selector = GeneticSelectionCV(clf, cv=5, scoring='accuracy', fit_params=None, \n",
    "                   max_features=5, verbose=1, n_jobs=1, n_population=300,\n",
    "                   crossover_proba=0.5, mutation_proba=0.2, n_generations=40, \n",
    "                   crossover_independent_proba=0.1, mutation_independent_proba=0.05,\n",
    "                   tournament_size=3, n_gen_no_change=None, caching=False)\n",
    "\n",
    "out = selector.fit(x,y)\n",
    "\n",
    "len(out.support_)"
   ]
  },
  {
   "cell_type": "code",
   "execution_count": 101,
   "metadata": {},
   "outputs": [
    {
     "data": {
      "text/plain": [
       "array([ True,  True,  True,  True, False, False, False, False, False,\n",
       "       False, False, False, False, False, False, False, False, False,\n",
       "       False, False, False, False, False, False, False, False, False,\n",
       "       False, False, False, False, False, False, False])"
      ]
     },
     "execution_count": 101,
     "metadata": {},
     "output_type": "execute_result"
    }
   ],
   "source": [
    "out.support_"
   ]
  }
 ],
 "metadata": {
  "kernelspec": {
   "display_name": "Python 3 (ipykernel)",
   "language": "python",
   "name": "python3"
  },
  "language_info": {
   "codemirror_mode": {
    "name": "ipython",
    "version": 3
   },
   "file_extension": ".py",
   "mimetype": "text/x-python",
   "name": "python",
   "nbconvert_exporter": "python",
   "pygments_lexer": "ipython3",
   "version": "3.9.16"
  }
 },
 "nbformat": 4,
 "nbformat_minor": 2
}
